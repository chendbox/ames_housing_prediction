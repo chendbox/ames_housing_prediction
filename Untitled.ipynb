{
 "cells": [
  {
   "cell_type": "code",
   "execution_count": 1,
   "id": "11b92d9b",
   "metadata": {},
   "outputs": [],
   "source": [
    "import pandas as pd\n",
    "import numpy as np\n",
    "import matplotlib.pyplot as plt\n",
    "plt.style.use('fivethirtyeight')\n",
    "import seaborn as sns"
   ]
  },
  {
   "cell_type": "code",
   "execution_count": 2,
   "id": "cfd4645a",
   "metadata": {},
   "outputs": [],
   "source": [
    "# import test data\n",
    "test = pd.read_csv('./datasets/test.csv')"
   ]
  },
  {
   "cell_type": "code",
   "execution_count": 3,
   "id": "8d043e65",
   "metadata": {},
   "outputs": [
    {
     "data": {
      "text/plain": [
       "(878, 80)"
      ]
     },
     "execution_count": 3,
     "metadata": {},
     "output_type": "execute_result"
    }
   ],
   "source": [
    "test.shape"
   ]
  },
  {
   "cell_type": "code",
   "execution_count": 4,
   "id": "ac6b262f",
   "metadata": {
    "scrolled": true
   },
   "outputs": [
    {
     "name": "stdout",
     "output_type": "stream",
     "text": [
      "<class 'pandas.core.frame.DataFrame'>\n",
      "RangeIndex: 878 entries, 0 to 877\n",
      "Data columns (total 80 columns):\n",
      " #   Column           Non-Null Count  Dtype  \n",
      "---  ------           --------------  -----  \n",
      " 0   Id               878 non-null    int64  \n",
      " 1   PID              878 non-null    int64  \n",
      " 2   MS SubClass      878 non-null    int64  \n",
      " 3   MS Zoning        878 non-null    object \n",
      " 4   Lot Frontage     718 non-null    float64\n",
      " 5   Lot Area         878 non-null    int64  \n",
      " 6   Street           878 non-null    object \n",
      " 7   Alley            58 non-null     object \n",
      " 8   Lot Shape        878 non-null    object \n",
      " 9   Land Contour     878 non-null    object \n",
      " 10  Utilities        878 non-null    object \n",
      " 11  Lot Config       878 non-null    object \n",
      " 12  Land Slope       878 non-null    object \n",
      " 13  Neighborhood     878 non-null    object \n",
      " 14  Condition 1      878 non-null    object \n",
      " 15  Condition 2      878 non-null    object \n",
      " 16  Bldg Type        878 non-null    object \n",
      " 17  House Style      878 non-null    object \n",
      " 18  Overall Qual     878 non-null    int64  \n",
      " 19  Overall Cond     878 non-null    int64  \n",
      " 20  Year Built       878 non-null    int64  \n",
      " 21  Year Remod/Add   878 non-null    int64  \n",
      " 22  Roof Style       878 non-null    object \n",
      " 23  Roof Matl        878 non-null    object \n",
      " 24  Exterior 1st     878 non-null    object \n",
      " 25  Exterior 2nd     878 non-null    object \n",
      " 26  Mas Vnr Type     877 non-null    object \n",
      " 27  Mas Vnr Area     877 non-null    float64\n",
      " 28  Exter Qual       878 non-null    object \n",
      " 29  Exter Cond       878 non-null    object \n",
      " 30  Foundation       878 non-null    object \n",
      " 31  Bsmt Qual        853 non-null    object \n",
      " 32  Bsmt Cond        853 non-null    object \n",
      " 33  Bsmt Exposure    853 non-null    object \n",
      " 34  BsmtFin Type 1   853 non-null    object \n",
      " 35  BsmtFin SF 1     878 non-null    int64  \n",
      " 36  BsmtFin Type 2   853 non-null    object \n",
      " 37  BsmtFin SF 2     878 non-null    int64  \n",
      " 38  Bsmt Unf SF      878 non-null    int64  \n",
      " 39  Total Bsmt SF    878 non-null    int64  \n",
      " 40  Heating          878 non-null    object \n",
      " 41  Heating QC       878 non-null    object \n",
      " 42  Central Air      878 non-null    object \n",
      " 43  Electrical       877 non-null    object \n",
      " 44  1st Flr SF       878 non-null    int64  \n",
      " 45  2nd Flr SF       878 non-null    int64  \n",
      " 46  Low Qual Fin SF  878 non-null    int64  \n",
      " 47  Gr Liv Area      878 non-null    int64  \n",
      " 48  Bsmt Full Bath   878 non-null    int64  \n",
      " 49  Bsmt Half Bath   878 non-null    int64  \n",
      " 50  Full Bath        878 non-null    int64  \n",
      " 51  Half Bath        878 non-null    int64  \n",
      " 52  Bedroom AbvGr    878 non-null    int64  \n",
      " 53  Kitchen AbvGr    878 non-null    int64  \n",
      " 54  Kitchen Qual     878 non-null    object \n",
      " 55  TotRms AbvGrd    878 non-null    int64  \n",
      " 56  Functional       878 non-null    object \n",
      " 57  Fireplaces       878 non-null    int64  \n",
      " 58  Fireplace Qu     456 non-null    object \n",
      " 59  Garage Type      834 non-null    object \n",
      " 60  Garage Yr Blt    833 non-null    float64\n",
      " 61  Garage Finish    833 non-null    object \n",
      " 62  Garage Cars      878 non-null    int64  \n",
      " 63  Garage Area      878 non-null    int64  \n",
      " 64  Garage Qual      833 non-null    object \n",
      " 65  Garage Cond      833 non-null    object \n",
      " 66  Paved Drive      878 non-null    object \n",
      " 67  Wood Deck SF     878 non-null    int64  \n",
      " 68  Open Porch SF    878 non-null    int64  \n",
      " 69  Enclosed Porch   878 non-null    int64  \n",
      " 70  3Ssn Porch       878 non-null    int64  \n",
      " 71  Screen Porch     878 non-null    int64  \n",
      " 72  Pool Area        878 non-null    int64  \n",
      " 73  Pool QC          4 non-null      object \n",
      " 74  Fence            172 non-null    object \n",
      " 75  Misc Feature     41 non-null     object \n",
      " 76  Misc Val         878 non-null    int64  \n",
      " 77  Mo Sold          878 non-null    int64  \n",
      " 78  Yr Sold          878 non-null    int64  \n",
      " 79  Sale Type        878 non-null    object \n",
      "dtypes: float64(3), int64(35), object(42)\n",
      "memory usage: 548.9+ KB\n"
     ]
    }
   ],
   "source": [
    "test.info()"
   ]
  },
  {
   "cell_type": "markdown",
   "id": "b2d80707",
   "metadata": {},
   "source": [
    "# Data Clean"
   ]
  },
  {
   "cell_type": "code",
   "execution_count": 5,
   "id": "0a012f6e",
   "metadata": {},
   "outputs": [
    {
     "data": {
      "text/plain": [
       "Pool QC           874\n",
       "Misc Feature      837\n",
       "Alley             820\n",
       "Fence             706\n",
       "Fireplace Qu      422\n",
       "Lot Frontage      160\n",
       "Garage Yr Blt      45\n",
       "Garage Finish      45\n",
       "Garage Qual        45\n",
       "Garage Cond        45\n",
       "Garage Type        44\n",
       "BsmtFin Type 1     25\n",
       "Bsmt Qual          25\n",
       "Bsmt Cond          25\n",
       "Bsmt Exposure      25\n",
       "BsmtFin Type 2     25\n",
       "Electrical          1\n",
       "Mas Vnr Type        1\n",
       "Mas Vnr Area        1\n",
       "Kitchen AbvGr       0\n",
       "dtype: int64"
      ]
     },
     "execution_count": 5,
     "metadata": {},
     "output_type": "execute_result"
    }
   ],
   "source": [
    "test.isnull().sum().sort_values(ascending= False).head(20)"
   ]
  },
  {
   "cell_type": "code",
   "execution_count": 6,
   "id": "87260585",
   "metadata": {},
   "outputs": [],
   "source": [
    "# drop the columns with so many missing values\n",
    "test.drop(columns = ['Pool QC', 'Misc Feature', 'Alley', 'Fence', 'Fireplace Qu'], inplace = True)"
   ]
  },
  {
   "cell_type": "code",
   "execution_count": 7,
   "id": "f16ac102",
   "metadata": {},
   "outputs": [],
   "source": [
    "test.fillna(test[['Garage Finish', 'Garage Qual', 'Garage Type', 'Bsmt Cond', 'Bsmt Qual', 'Bsmt Exposure', 'BsmtFin Type 1','BsmtFin Type 2','Mas Vnr Type', 'Garage Cond', 'Electrical']].fillna('None'), inplace = True)"
   ]
  },
  {
   "cell_type": "code",
   "execution_count": 8,
   "id": "b38b46d1",
   "metadata": {},
   "outputs": [],
   "source": [
    "test['Lot Frontage'].fillna(test['Lot Frontage'].mean(), inplace = True)"
   ]
  },
  {
   "cell_type": "code",
   "execution_count": 9,
   "id": "28615d80",
   "metadata": {},
   "outputs": [],
   "source": [
    "test['Garage Yr Blt'] = test.apply(lambda row: row['Year Built'] if np.isnan(row['Garage Yr Blt']) else row['Garage Yr Blt'],axis =1)"
   ]
  },
  {
   "cell_type": "code",
   "execution_count": 10,
   "id": "1c43663c",
   "metadata": {},
   "outputs": [],
   "source": [
    "test['Garage Yr Blt'] = test['Garage Yr Blt'].astype(int)"
   ]
  },
  {
   "cell_type": "code",
   "execution_count": 11,
   "id": "b3242b39",
   "metadata": {},
   "outputs": [],
   "source": [
    "test['Mas Vnr Area'].fillna((0), inplace = True)"
   ]
  },
  {
   "cell_type": "code",
   "execution_count": 12,
   "id": "b4545101",
   "metadata": {},
   "outputs": [
    {
     "name": "stdout",
     "output_type": "stream",
     "text": [
      "<class 'pandas.core.frame.DataFrame'>\n",
      "RangeIndex: 878 entries, 0 to 877\n",
      "Data columns (total 75 columns):\n",
      " #   Column           Non-Null Count  Dtype  \n",
      "---  ------           --------------  -----  \n",
      " 0   Id               878 non-null    int64  \n",
      " 1   PID              878 non-null    int64  \n",
      " 2   MS SubClass      878 non-null    int64  \n",
      " 3   MS Zoning        878 non-null    object \n",
      " 4   Lot Frontage     878 non-null    float64\n",
      " 5   Lot Area         878 non-null    int64  \n",
      " 6   Street           878 non-null    object \n",
      " 7   Lot Shape        878 non-null    object \n",
      " 8   Land Contour     878 non-null    object \n",
      " 9   Utilities        878 non-null    object \n",
      " 10  Lot Config       878 non-null    object \n",
      " 11  Land Slope       878 non-null    object \n",
      " 12  Neighborhood     878 non-null    object \n",
      " 13  Condition 1      878 non-null    object \n",
      " 14  Condition 2      878 non-null    object \n",
      " 15  Bldg Type        878 non-null    object \n",
      " 16  House Style      878 non-null    object \n",
      " 17  Overall Qual     878 non-null    int64  \n",
      " 18  Overall Cond     878 non-null    int64  \n",
      " 19  Year Built       878 non-null    int64  \n",
      " 20  Year Remod/Add   878 non-null    int64  \n",
      " 21  Roof Style       878 non-null    object \n",
      " 22  Roof Matl        878 non-null    object \n",
      " 23  Exterior 1st     878 non-null    object \n",
      " 24  Exterior 2nd     878 non-null    object \n",
      " 25  Mas Vnr Type     878 non-null    object \n",
      " 26  Mas Vnr Area     878 non-null    float64\n",
      " 27  Exter Qual       878 non-null    object \n",
      " 28  Exter Cond       878 non-null    object \n",
      " 29  Foundation       878 non-null    object \n",
      " 30  Bsmt Qual        878 non-null    object \n",
      " 31  Bsmt Cond        878 non-null    object \n",
      " 32  Bsmt Exposure    878 non-null    object \n",
      " 33  BsmtFin Type 1   878 non-null    object \n",
      " 34  BsmtFin SF 1     878 non-null    int64  \n",
      " 35  BsmtFin Type 2   878 non-null    object \n",
      " 36  BsmtFin SF 2     878 non-null    int64  \n",
      " 37  Bsmt Unf SF      878 non-null    int64  \n",
      " 38  Total Bsmt SF    878 non-null    int64  \n",
      " 39  Heating          878 non-null    object \n",
      " 40  Heating QC       878 non-null    object \n",
      " 41  Central Air      878 non-null    object \n",
      " 42  Electrical       878 non-null    object \n",
      " 43  1st Flr SF       878 non-null    int64  \n",
      " 44  2nd Flr SF       878 non-null    int64  \n",
      " 45  Low Qual Fin SF  878 non-null    int64  \n",
      " 46  Gr Liv Area      878 non-null    int64  \n",
      " 47  Bsmt Full Bath   878 non-null    int64  \n",
      " 48  Bsmt Half Bath   878 non-null    int64  \n",
      " 49  Full Bath        878 non-null    int64  \n",
      " 50  Half Bath        878 non-null    int64  \n",
      " 51  Bedroom AbvGr    878 non-null    int64  \n",
      " 52  Kitchen AbvGr    878 non-null    int64  \n",
      " 53  Kitchen Qual     878 non-null    object \n",
      " 54  TotRms AbvGrd    878 non-null    int64  \n",
      " 55  Functional       878 non-null    object \n",
      " 56  Fireplaces       878 non-null    int64  \n",
      " 57  Garage Type      878 non-null    object \n",
      " 58  Garage Yr Blt    878 non-null    int64  \n",
      " 59  Garage Finish    878 non-null    object \n",
      " 60  Garage Cars      878 non-null    int64  \n",
      " 61  Garage Area      878 non-null    int64  \n",
      " 62  Garage Qual      878 non-null    object \n",
      " 63  Garage Cond      878 non-null    object \n",
      " 64  Paved Drive      878 non-null    object \n",
      " 65  Wood Deck SF     878 non-null    int64  \n",
      " 66  Open Porch SF    878 non-null    int64  \n",
      " 67  Enclosed Porch   878 non-null    int64  \n",
      " 68  3Ssn Porch       878 non-null    int64  \n",
      " 69  Screen Porch     878 non-null    int64  \n",
      " 70  Pool Area        878 non-null    int64  \n",
      " 71  Misc Val         878 non-null    int64  \n",
      " 72  Mo Sold          878 non-null    int64  \n",
      " 73  Yr Sold          878 non-null    int64  \n",
      " 74  Sale Type        878 non-null    object \n",
      "dtypes: float64(2), int64(36), object(37)\n",
      "memory usage: 514.6+ KB\n"
     ]
    }
   ],
   "source": [
    "test.info()"
   ]
  },
  {
   "cell_type": "code",
   "execution_count": 13,
   "id": "5d0ad8d4",
   "metadata": {},
   "outputs": [],
   "source": [
    "test['HouseAge'] = test['Yr Sold'] - test['Year Built']"
   ]
  },
  {
   "cell_type": "code",
   "execution_count": 14,
   "id": "5253b365",
   "metadata": {},
   "outputs": [],
   "source": [
    "import matplotlib.pyplot as plt\n",
    "import seaborn as sns\n",
    "import matplotlib.pyplot as plt\n",
    "import sklearn.preprocessing as skpp\n",
    "import sklearn.model_selection as skms\n",
    "import sklearn.linear_model as sklm\n",
    "import sklearn.metrics as skm"
   ]
  },
  {
   "cell_type": "markdown",
   "id": "2ae02070",
   "metadata": {},
   "source": [
    "# EDA"
   ]
  },
  {
   "cell_type": "code",
   "execution_count": 15,
   "id": "c39c511f",
   "metadata": {},
   "outputs": [
    {
     "data": {
      "text/plain": [
       "Index(['MS Zoning', 'Street', 'Lot Shape', 'Land Contour', 'Utilities',\n",
       "       'Lot Config', 'Land Slope', 'Neighborhood', 'Condition 1',\n",
       "       'Condition 2', 'Bldg Type', 'House Style', 'Roof Style', 'Roof Matl',\n",
       "       'Exterior 1st', 'Exterior 2nd', 'Mas Vnr Type', 'Exter Qual',\n",
       "       'Exter Cond', 'Foundation', 'Bsmt Qual', 'Bsmt Cond', 'Bsmt Exposure',\n",
       "       'BsmtFin Type 1', 'BsmtFin Type 2', 'Heating', 'Heating QC',\n",
       "       'Central Air', 'Electrical', 'Kitchen Qual', 'Functional',\n",
       "       'Garage Type', 'Garage Finish', 'Garage Qual', 'Garage Cond',\n",
       "       'Paved Drive', 'Sale Type'],\n",
       "      dtype='object')"
      ]
     },
     "execution_count": 15,
     "metadata": {},
     "output_type": "execute_result"
    }
   ],
   "source": [
    "test.select_dtypes(include = 'object').columns"
   ]
  },
  {
   "cell_type": "code",
   "execution_count": 16,
   "id": "565c0b81",
   "metadata": {},
   "outputs": [],
   "source": [
    "# drop categorical columns\n",
    "test.drop(['Utilities','Land Slope','Lot Shape', 'Lot Config', 'Roof Style', 'Heating', \n",
    "           'Condition 2','Exterior 2nd', 'BsmtFin Type 2'], axis=1, inplace= True)"
   ]
  },
  {
   "cell_type": "code",
   "execution_count": 17,
   "id": "f5ce92ea",
   "metadata": {},
   "outputs": [],
   "source": [
    "# drop numeric columns\n",
    "test.drop(['PID', 'Id', 'Pool Area', 'MS SubClass','Overall Cond', 'BsmtFin SF 2', \n",
    "            'Low Qual Fin SF', 'Bsmt Half Bath' , 'Bedroom AbvGr', 'Kitchen AbvGr',\n",
    "           'Enclosed Porch','3Ssn Porch','Screen Porch', 'Misc Val', 'Mo Sold', 'Yr Sold'], \n",
    "          axis=1, inplace = True)"
   ]
  },
  {
   "cell_type": "code",
   "execution_count": 18,
   "id": "e9eba92d",
   "metadata": {},
   "outputs": [],
   "source": [
    "test['Flr SF'] = test['1st Flr SF'] + test['2nd Flr SF']\n",
    "test['Bath'] = test['Bsmt Full Bath'] + test['Full Bath'] + test['Half Bath']\n",
    "# comibne 'wood deck sf, and open porch sf' - as Attach SF\n",
    "test['Attach SF'] = test['Wood Deck SF'] + test['Open Porch SF']\n",
    "# combine lot frontage and lot area\n",
    "test['Lot SF'] = test['Lot Frontage'] + test['Lot Area']"
   ]
  },
  {
   "cell_type": "code",
   "execution_count": 19,
   "id": "f35a167d",
   "metadata": {},
   "outputs": [],
   "source": [
    "test.drop(columns = ['Year Built', 'Bsmt Unf SF', 'Garage Yr Blt', '1st Flr SF',\n",
    "                     '2nd Flr SF', 'Bsmt Full Bath', 'Full Bath', 'Half Bath',\n",
    "                     'Wood Deck SF', 'Open Porch SF', 'Lot Frontage', 'Lot Area'], axis=1, inplace = True)"
   ]
  },
  {
   "cell_type": "code",
   "execution_count": 20,
   "id": "410f8e33",
   "metadata": {},
   "outputs": [
    {
     "data": {
      "text/plain": [
       "(878, 43)"
      ]
     },
     "execution_count": 20,
     "metadata": {},
     "output_type": "execute_result"
    }
   ],
   "source": [
    "test.shape"
   ]
  },
  {
   "cell_type": "code",
   "execution_count": 21,
   "id": "df58947b",
   "metadata": {},
   "outputs": [
    {
     "data": {
      "text/plain": [
       "Index(['MS Zoning', 'Street', 'Land Contour', 'Neighborhood', 'Condition 1',\n",
       "       'Bldg Type', 'House Style', 'Roof Matl', 'Exterior 1st', 'Mas Vnr Type',\n",
       "       'Exter Qual', 'Exter Cond', 'Foundation', 'Bsmt Qual', 'Bsmt Cond',\n",
       "       'Bsmt Exposure', 'BsmtFin Type 1', 'Heating QC', 'Central Air',\n",
       "       'Electrical', 'Kitchen Qual', 'Functional', 'Garage Type',\n",
       "       'Garage Finish', 'Garage Qual', 'Garage Cond', 'Paved Drive',\n",
       "       'Sale Type'],\n",
       "      dtype='object')"
      ]
     },
     "execution_count": 21,
     "metadata": {},
     "output_type": "execute_result"
    }
   ],
   "source": [
    "test.select_dtypes(include = 'object').columns"
   ]
  },
  {
   "cell_type": "code",
   "execution_count": 22,
   "id": "3e7b1d1c",
   "metadata": {},
   "outputs": [],
   "source": [
    "test = pd.get_dummies(columns =['MS Zoning', 'Street', 'Land Contour', 'Neighborhood', 'Condition 1',\n",
    "       'Bldg Type', 'House Style', 'Roof Matl', 'Exterior 1st', 'Mas Vnr Type',\n",
    "       'Exter Qual', 'Exter Cond', 'Foundation', 'Bsmt Qual', 'Bsmt Cond',\n",
    "       'Bsmt Exposure', 'BsmtFin Type 1', 'Heating QC', 'Central Air',\n",
    "       'Electrical', 'Kitchen Qual', 'Functional', 'Garage Type',\n",
    "       'Garage Finish', 'Garage Qual', 'Garage Cond', 'Paved Drive',\n",
    "       'Sale Type'], data=test, drop_first = True)"
   ]
  },
  {
   "cell_type": "code",
   "execution_count": 23,
   "id": "1b51f2ce",
   "metadata": {},
   "outputs": [
    {
     "data": {
      "text/plain": [
       "(878, 165)"
      ]
     },
     "execution_count": 23,
     "metadata": {},
     "output_type": "execute_result"
    }
   ],
   "source": [
    "test.shape"
   ]
  },
  {
   "cell_type": "code",
   "execution_count": 24,
   "id": "55b5be90",
   "metadata": {},
   "outputs": [
    {
     "data": {
      "text/plain": [
       "Index(['Overall Qual', 'Year Remod/Add', 'Mas Vnr Area', 'BsmtFin SF 1',\n",
       "       'Total Bsmt SF', 'Gr Liv Area', 'TotRms AbvGrd', 'Fireplaces',\n",
       "       'Garage Cars', 'Garage Area',\n",
       "       ...\n",
       "       'Paved Drive_Y', 'Sale Type_CWD', 'Sale Type_Con', 'Sale Type_ConLD',\n",
       "       'Sale Type_ConLI', 'Sale Type_ConLw', 'Sale Type_New', 'Sale Type_Oth',\n",
       "       'Sale Type_VWD', 'Sale Type_WD '],\n",
       "      dtype='object', length=165)"
      ]
     },
     "execution_count": 24,
     "metadata": {},
     "output_type": "execute_result"
    }
   ],
   "source": [
    "test.columns"
   ]
  },
  {
   "cell_type": "code",
   "execution_count": 25,
   "id": "95296480",
   "metadata": {},
   "outputs": [],
   "source": [
    "test.to_csv ('./datasets/clean_test.csv')\n"
   ]
  },
  {
   "cell_type": "code",
   "execution_count": null,
   "id": "dd619c32",
   "metadata": {},
   "outputs": [],
   "source": []
  },
  {
   "cell_type": "code",
   "execution_count": 26,
   "id": "635ee75b",
   "metadata": {},
   "outputs": [],
   "source": [
    "test = pd.read_csv('./datasets/clean_test.csv')\n",
    "train ="
   ]
  },
  {
   "cell_type": "code",
   "execution_count": 29,
   "id": "f1d820d5",
   "metadata": {},
   "outputs": [
    {
     "data": {
      "text/html": [
       "<div>\n",
       "<style scoped>\n",
       "    .dataframe tbody tr th:only-of-type {\n",
       "        vertical-align: middle;\n",
       "    }\n",
       "\n",
       "    .dataframe tbody tr th {\n",
       "        vertical-align: top;\n",
       "    }\n",
       "\n",
       "    .dataframe thead th {\n",
       "        text-align: right;\n",
       "    }\n",
       "</style>\n",
       "<table border=\"1\" class=\"dataframe\">\n",
       "  <thead>\n",
       "    <tr style=\"text-align: right;\">\n",
       "      <th></th>\n",
       "      <th>Overall Qual</th>\n",
       "      <th>Year Remod/Add</th>\n",
       "      <th>Mas Vnr Area</th>\n",
       "      <th>BsmtFin SF 1</th>\n",
       "      <th>Total Bsmt SF</th>\n",
       "      <th>Gr Liv Area</th>\n",
       "      <th>TotRms AbvGrd</th>\n",
       "      <th>Fireplaces</th>\n",
       "      <th>Garage Cars</th>\n",
       "      <th>Garage Area</th>\n",
       "      <th>...</th>\n",
       "      <th>Paved Drive_Y</th>\n",
       "      <th>Sale Type_CWD</th>\n",
       "      <th>Sale Type_Con</th>\n",
       "      <th>Sale Type_ConLD</th>\n",
       "      <th>Sale Type_ConLI</th>\n",
       "      <th>Sale Type_ConLw</th>\n",
       "      <th>Sale Type_New</th>\n",
       "      <th>Sale Type_Oth</th>\n",
       "      <th>Sale Type_VWD</th>\n",
       "      <th>Sale Type_WD</th>\n",
       "    </tr>\n",
       "  </thead>\n",
       "  <tbody>\n",
       "    <tr>\n",
       "      <th>0</th>\n",
       "      <td>6</td>\n",
       "      <td>1950</td>\n",
       "      <td>0.0</td>\n",
       "      <td>0</td>\n",
       "      <td>1020</td>\n",
       "      <td>1928</td>\n",
       "      <td>9</td>\n",
       "      <td>0</td>\n",
       "      <td>1</td>\n",
       "      <td>440</td>\n",
       "      <td>...</td>\n",
       "      <td>1</td>\n",
       "      <td>0</td>\n",
       "      <td>0</td>\n",
       "      <td>0</td>\n",
       "      <td>0</td>\n",
       "      <td>0</td>\n",
       "      <td>0</td>\n",
       "      <td>0</td>\n",
       "      <td>0</td>\n",
       "      <td>1</td>\n",
       "    </tr>\n",
       "    <tr>\n",
       "      <th>1</th>\n",
       "      <td>5</td>\n",
       "      <td>1977</td>\n",
       "      <td>0.0</td>\n",
       "      <td>0</td>\n",
       "      <td>1967</td>\n",
       "      <td>1967</td>\n",
       "      <td>10</td>\n",
       "      <td>0</td>\n",
       "      <td>2</td>\n",
       "      <td>580</td>\n",
       "      <td>...</td>\n",
       "      <td>1</td>\n",
       "      <td>0</td>\n",
       "      <td>0</td>\n",
       "      <td>0</td>\n",
       "      <td>0</td>\n",
       "      <td>0</td>\n",
       "      <td>0</td>\n",
       "      <td>0</td>\n",
       "      <td>0</td>\n",
       "      <td>1</td>\n",
       "    </tr>\n",
       "    <tr>\n",
       "      <th>2</th>\n",
       "      <td>7</td>\n",
       "      <td>2006</td>\n",
       "      <td>0.0</td>\n",
       "      <td>554</td>\n",
       "      <td>654</td>\n",
       "      <td>1496</td>\n",
       "      <td>7</td>\n",
       "      <td>1</td>\n",
       "      <td>2</td>\n",
       "      <td>426</td>\n",
       "      <td>...</td>\n",
       "      <td>1</td>\n",
       "      <td>0</td>\n",
       "      <td>0</td>\n",
       "      <td>0</td>\n",
       "      <td>0</td>\n",
       "      <td>0</td>\n",
       "      <td>1</td>\n",
       "      <td>0</td>\n",
       "      <td>0</td>\n",
       "      <td>0</td>\n",
       "    </tr>\n",
       "    <tr>\n",
       "      <th>3</th>\n",
       "      <td>5</td>\n",
       "      <td>2006</td>\n",
       "      <td>0.0</td>\n",
       "      <td>0</td>\n",
       "      <td>968</td>\n",
       "      <td>968</td>\n",
       "      <td>5</td>\n",
       "      <td>0</td>\n",
       "      <td>2</td>\n",
       "      <td>480</td>\n",
       "      <td>...</td>\n",
       "      <td>0</td>\n",
       "      <td>0</td>\n",
       "      <td>0</td>\n",
       "      <td>0</td>\n",
       "      <td>0</td>\n",
       "      <td>0</td>\n",
       "      <td>0</td>\n",
       "      <td>0</td>\n",
       "      <td>0</td>\n",
       "      <td>1</td>\n",
       "    </tr>\n",
       "    <tr>\n",
       "      <th>4</th>\n",
       "      <td>6</td>\n",
       "      <td>1963</td>\n",
       "      <td>247.0</td>\n",
       "      <td>609</td>\n",
       "      <td>1394</td>\n",
       "      <td>1394</td>\n",
       "      <td>6</td>\n",
       "      <td>2</td>\n",
       "      <td>2</td>\n",
       "      <td>514</td>\n",
       "      <td>...</td>\n",
       "      <td>1</td>\n",
       "      <td>0</td>\n",
       "      <td>0</td>\n",
       "      <td>0</td>\n",
       "      <td>0</td>\n",
       "      <td>0</td>\n",
       "      <td>0</td>\n",
       "      <td>0</td>\n",
       "      <td>0</td>\n",
       "      <td>1</td>\n",
       "    </tr>\n",
       "    <tr>\n",
       "      <th>...</th>\n",
       "      <td>...</td>\n",
       "      <td>...</td>\n",
       "      <td>...</td>\n",
       "      <td>...</td>\n",
       "      <td>...</td>\n",
       "      <td>...</td>\n",
       "      <td>...</td>\n",
       "      <td>...</td>\n",
       "      <td>...</td>\n",
       "      <td>...</td>\n",
       "      <td>...</td>\n",
       "      <td>...</td>\n",
       "      <td>...</td>\n",
       "      <td>...</td>\n",
       "      <td>...</td>\n",
       "      <td>...</td>\n",
       "      <td>...</td>\n",
       "      <td>...</td>\n",
       "      <td>...</td>\n",
       "      <td>...</td>\n",
       "      <td>...</td>\n",
       "    </tr>\n",
       "    <tr>\n",
       "      <th>873</th>\n",
       "      <td>6</td>\n",
       "      <td>1974</td>\n",
       "      <td>0.0</td>\n",
       "      <td>931</td>\n",
       "      <td>1084</td>\n",
       "      <td>1877</td>\n",
       "      <td>8</td>\n",
       "      <td>1</td>\n",
       "      <td>2</td>\n",
       "      <td>488</td>\n",
       "      <td>...</td>\n",
       "      <td>1</td>\n",
       "      <td>0</td>\n",
       "      <td>0</td>\n",
       "      <td>0</td>\n",
       "      <td>0</td>\n",
       "      <td>0</td>\n",
       "      <td>0</td>\n",
       "      <td>0</td>\n",
       "      <td>0</td>\n",
       "      <td>1</td>\n",
       "    </tr>\n",
       "    <tr>\n",
       "      <th>874</th>\n",
       "      <td>6</td>\n",
       "      <td>1999</td>\n",
       "      <td>410.0</td>\n",
       "      <td>575</td>\n",
       "      <td>1104</td>\n",
       "      <td>1988</td>\n",
       "      <td>9</td>\n",
       "      <td>1</td>\n",
       "      <td>2</td>\n",
       "      <td>480</td>\n",
       "      <td>...</td>\n",
       "      <td>1</td>\n",
       "      <td>0</td>\n",
       "      <td>0</td>\n",
       "      <td>0</td>\n",
       "      <td>0</td>\n",
       "      <td>0</td>\n",
       "      <td>0</td>\n",
       "      <td>0</td>\n",
       "      <td>0</td>\n",
       "      <td>1</td>\n",
       "    </tr>\n",
       "    <tr>\n",
       "      <th>875</th>\n",
       "      <td>5</td>\n",
       "      <td>1968</td>\n",
       "      <td>0.0</td>\n",
       "      <td>250</td>\n",
       "      <td>952</td>\n",
       "      <td>1211</td>\n",
       "      <td>5</td>\n",
       "      <td>1</td>\n",
       "      <td>1</td>\n",
       "      <td>322</td>\n",
       "      <td>...</td>\n",
       "      <td>1</td>\n",
       "      <td>0</td>\n",
       "      <td>0</td>\n",
       "      <td>0</td>\n",
       "      <td>0</td>\n",
       "      <td>0</td>\n",
       "      <td>0</td>\n",
       "      <td>0</td>\n",
       "      <td>0</td>\n",
       "      <td>1</td>\n",
       "    </tr>\n",
       "    <tr>\n",
       "      <th>876</th>\n",
       "      <td>4</td>\n",
       "      <td>1971</td>\n",
       "      <td>0.0</td>\n",
       "      <td>616</td>\n",
       "      <td>864</td>\n",
       "      <td>864</td>\n",
       "      <td>5</td>\n",
       "      <td>0</td>\n",
       "      <td>2</td>\n",
       "      <td>528</td>\n",
       "      <td>...</td>\n",
       "      <td>1</td>\n",
       "      <td>0</td>\n",
       "      <td>0</td>\n",
       "      <td>0</td>\n",
       "      <td>0</td>\n",
       "      <td>0</td>\n",
       "      <td>0</td>\n",
       "      <td>0</td>\n",
       "      <td>0</td>\n",
       "      <td>1</td>\n",
       "    </tr>\n",
       "    <tr>\n",
       "      <th>877</th>\n",
       "      <td>5</td>\n",
       "      <td>1955</td>\n",
       "      <td>0.0</td>\n",
       "      <td>793</td>\n",
       "      <td>923</td>\n",
       "      <td>925</td>\n",
       "      <td>5</td>\n",
       "      <td>2</td>\n",
       "      <td>1</td>\n",
       "      <td>390</td>\n",
       "      <td>...</td>\n",
       "      <td>1</td>\n",
       "      <td>0</td>\n",
       "      <td>0</td>\n",
       "      <td>0</td>\n",
       "      <td>0</td>\n",
       "      <td>0</td>\n",
       "      <td>0</td>\n",
       "      <td>0</td>\n",
       "      <td>0</td>\n",
       "      <td>1</td>\n",
       "    </tr>\n",
       "  </tbody>\n",
       "</table>\n",
       "<p>878 rows × 165 columns</p>\n",
       "</div>"
      ],
      "text/plain": [
       "     Overall Qual  Year Remod/Add  Mas Vnr Area  BsmtFin SF 1  Total Bsmt SF  \\\n",
       "0               6            1950           0.0             0           1020   \n",
       "1               5            1977           0.0             0           1967   \n",
       "2               7            2006           0.0           554            654   \n",
       "3               5            2006           0.0             0            968   \n",
       "4               6            1963         247.0           609           1394   \n",
       "..            ...             ...           ...           ...            ...   \n",
       "873             6            1974           0.0           931           1084   \n",
       "874             6            1999         410.0           575           1104   \n",
       "875             5            1968           0.0           250            952   \n",
       "876             4            1971           0.0           616            864   \n",
       "877             5            1955           0.0           793            923   \n",
       "\n",
       "     Gr Liv Area  TotRms AbvGrd  Fireplaces  Garage Cars  Garage Area  ...  \\\n",
       "0           1928              9           0            1          440  ...   \n",
       "1           1967             10           0            2          580  ...   \n",
       "2           1496              7           1            2          426  ...   \n",
       "3            968              5           0            2          480  ...   \n",
       "4           1394              6           2            2          514  ...   \n",
       "..           ...            ...         ...          ...          ...  ...   \n",
       "873         1877              8           1            2          488  ...   \n",
       "874         1988              9           1            2          480  ...   \n",
       "875         1211              5           1            1          322  ...   \n",
       "876          864              5           0            2          528  ...   \n",
       "877          925              5           2            1          390  ...   \n",
       "\n",
       "     Paved Drive_Y  Sale Type_CWD  Sale Type_Con  Sale Type_ConLD  \\\n",
       "0                1              0              0                0   \n",
       "1                1              0              0                0   \n",
       "2                1              0              0                0   \n",
       "3                0              0              0                0   \n",
       "4                1              0              0                0   \n",
       "..             ...            ...            ...              ...   \n",
       "873              1              0              0                0   \n",
       "874              1              0              0                0   \n",
       "875              1              0              0                0   \n",
       "876              1              0              0                0   \n",
       "877              1              0              0                0   \n",
       "\n",
       "     Sale Type_ConLI  Sale Type_ConLw  Sale Type_New  Sale Type_Oth  \\\n",
       "0                  0                0              0              0   \n",
       "1                  0                0              0              0   \n",
       "2                  0                0              1              0   \n",
       "3                  0                0              0              0   \n",
       "4                  0                0              0              0   \n",
       "..               ...              ...            ...            ...   \n",
       "873                0                0              0              0   \n",
       "874                0                0              0              0   \n",
       "875                0                0              0              0   \n",
       "876                0                0              0              0   \n",
       "877                0                0              0              0   \n",
       "\n",
       "     Sale Type_VWD  Sale Type_WD   \n",
       "0                0              1  \n",
       "1                0              1  \n",
       "2                0              0  \n",
       "3                0              1  \n",
       "4                0              1  \n",
       "..             ...            ...  \n",
       "873              0              1  \n",
       "874              0              1  \n",
       "875              0              1  \n",
       "876              0              1  \n",
       "877              0              1  \n",
       "\n",
       "[878 rows x 165 columns]"
      ]
     },
     "execution_count": 29,
     "metadata": {},
     "output_type": "execute_result"
    }
   ],
   "source": [
    "X = test.drop(columns = ['Unnamed: 0'])"
   ]
  },
  {
   "cell_type": "code",
   "execution_count": null,
   "id": "78759c08",
   "metadata": {},
   "outputs": [],
   "source": []
  }
 ],
 "metadata": {
  "kernelspec": {
   "display_name": "Python 3",
   "language": "python",
   "name": "python3"
  },
  "language_info": {
   "codemirror_mode": {
    "name": "ipython",
    "version": 3
   },
   "file_extension": ".py",
   "mimetype": "text/x-python",
   "name": "python",
   "nbconvert_exporter": "python",
   "pygments_lexer": "ipython3",
   "version": "3.8.8"
  }
 },
 "nbformat": 4,
 "nbformat_minor": 5
}
